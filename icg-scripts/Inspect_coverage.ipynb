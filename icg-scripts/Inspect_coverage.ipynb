{
 "cells": [
  {
   "cell_type": "code",
   "execution_count": 1,
   "metadata": {
    "collapsed": true
   },
   "outputs": [],
   "source": [
    "import os\n",
    "import pickle\n",
    "import re\n",
    "from glob import glob\n",
    "from ipywidgets import FloatProgress\n",
    "from IPython.display import display\n",
    "import matplotlib.pyplot as plt\n",
    "import datetime\n",
    "\n",
    "flag_dscrpt = {\n",
    "        1 : 'NOT A DISTB MECH',\n",
    "        2 : 'NO STATES DEFINED',\n",
    "        3 : 'STATES HAS FROM 0 TO 1',\n",
    "        4  : 'Atleast one POWER OF STATES is 0',\n",
    "        5 : 'Errors in parsing BREAKPOINT to obtain powers', \n",
    "        11 : 'NO OUTPUT FROM HHAnalyse',\n",
    "        19 : '#STATES != #OUTPUT FILES',\n",
    "        #30 : 'UNPARSE Unknown',\n",
    "        #31 : 'UNPARSE TextXSyntaxError',\n",
    "        #32 : 'UNPARSE TextXSemanticError',\n",
    "        #33 : 'UNPARSE AttributeError',\n",
    "        50 : 'Temperature dependence',\n",
    "        51 : 'No temp dependence',\n",
    "        52 : 'Unknown temp dependence (probable)'\n",
    "}\n",
    "\n",
    "def get_flag_counts(mega_dict, flag_typs=[]):\n",
    "    count = 0\n",
    "    for channel in mega_dict:\n",
    "        if 'red_flag' in mega_dict[channel]:\n",
    "            if not flag_typs:\n",
    "                count += 1\n",
    "            else:\n",
    "                for flag_typ in flag_typs:\n",
    "                    if flag_typ in mega_dict[channel]['red_flag']:\n",
    "                        count += 1 \n",
    "    return count\n",
    "\n",
    "def get_flag_channel(mega_dict, flag_typs=[]):\n",
    "    channel_list = []\n",
    "    for channel in mega_dict:\n",
    "        if 'red_flag' in mega_dict[channel]:\n",
    "            if not flag_typs:\n",
    "                channel_list.append(channel)\n",
    "            else:\n",
    "                for flag_typ in flag_typs:\n",
    "                    if flag_typ in mega_dict[channel]['red_flag']:\n",
    "                        channel_list.append(channel)    \n",
    "    return set(channel_list)\n",
    "\n",
    "def show_progress(description, value):\n",
    "    f = FloatProgress(min=0, max=100, description=description + ' : ')\n",
    "    f.value = value\n",
    "    return f\n",
    "\n",
    "def print_progress(mega_dict, flg_typ):\n",
    "    f_channels = get_flag_counts(mega_dict, [flg_typ])\n",
    "    percent_f_cover = float(f_channels*100. / brkn_channel_count)\n",
    "    print('Total number of broken channels : ', brkn_channel_count)\n",
    "    print('Total number of ', flag_dscrpt[flg_typ], ' : ', f_channels)\n",
    "    print('Percent of the failed : ', percent_f_cover)\n",
    "    return show_progress(flag_dscrpt[flg_typ], percent_f_cover)\n",
    "\n",
    "def fail_percent(mega_dict, flag_list):\n",
    "    counts = []\n",
    "    for flg in flag_list:\n",
    "        counts.append(len(get_flag_channel(mega_dict, [flg])))\n",
    "    counts = [(100.0 * ii) / len(mega_dict) for ii in counts]\n",
    "    return counts\n",
    "\n",
    "def make_plot():\n",
    "    now = datetime.datetime.now()\n",
    "    pos = [ii + 0.5 for ii in range(len(flag_dscrpt)+1)]\n",
    "    values = [100.-percent_cover]\n",
    "    colors = ['g']\n",
    "    labels = ['ALL PASS']\n",
    "    for key, value in flag_dscrpt.items():\n",
    "        values.append(fail_percent(mega_dict, [key])[0])\n",
    "        colors.append('r')\n",
    "        labels.append(value)\n",
    "    plt.figure(figsize=(10,10))\n",
    "    bar_list = plt.barh(pos, values)\n",
    "    for ii, bar in enumerate(bar_list):\n",
    "        bar.set_color(colors[ii])\n",
    "    plt.yticks(pos, labels)\n",
    "    ax = plt.gca()\n",
    "    ax.set_xlim(0,100)\n",
    "    ax.set_xlabel('Percentage')\n",
    "    plt.title(sub_channel + ' ' + now.strftime(\"%Y-%m-%d %H:%M\"))\n",
    "    #plt.savefig(sub_channel+'_coverage.png', dpi=150, bbox_inches='tight')\n",
    "    plt.show()"
   ]
  },
  {
   "cell_type": "code",
   "execution_count": 2,
   "metadata": {
    "collapsed": true
   },
   "outputs": [],
   "source": [
    "sub_channel = 'icg-channels-K'\n",
    "with open(sub_channel+'.pkl', 'rb') as handle:\n",
    "    mega_dict = pickle.load(handle)\n",
    "\n",
    "brkn_channel_count = get_flag_counts(mega_dict)\n",
    "percent_cover = float(brkn_channel_count)/len(mega_dict)*100."
   ]
  },
  {
   "cell_type": "code",
   "execution_count": 3,
   "metadata": {},
   "outputs": [
    {
     "data": {
      "image/png": "[encoded data removed]",
      "text/plain": [
       "<matplotlib.figure.Figure at 0x7ff5809edac8>"
      ]
     },
     "metadata": {},
     "output_type": "display_data"
    }
   ],
   "source": [
    "make_plot()"
   ]
  },
  {
   "cell_type": "code",
   "execution_count": 4,
   "metadata": {},
   "outputs": [
    {
     "name": "stdout",
     "output_type": "stream",
     "text": [
      "Total number of channels in,  icg-channels-K  :  1211\n",
      "Total number of broken channels :  1211\n",
      "Number of channels that are OKAY so far:  0\n",
      "Percent of pass :  100.0\n"
     ]
    },
    {
     "data": {
      "application/vnd.jupyter.widget-view+json": {
       "model_id": "013842983e20451d9400eade3c40e954",
       "version_major": 2,
       "version_minor": 0
      },
      "text/plain": [
       "A Jupyter Widget"
      ]
     },
     "metadata": {},
     "output_type": "display_data"
    }
   ],
   "source": [
    "print('Total number of channels in, ', sub_channel, ' : ', len(mega_dict))\n",
    "print('Total number of broken channels : ', brkn_channel_count)\n",
    "print('Number of channels that are OKAY so far: ', len(mega_dict)-brkn_channel_count)\n",
    "print('Percent of pass : ', percent_cover)\n",
    "display(show_progress('Pass coverage', percent_cover))"
   ]
  },
  {
   "cell_type": "code",
   "execution_count": 5,
   "metadata": {},
   "outputs": [
    {
     "name": "stdout",
     "output_type": "stream",
     "text": [
      "Total number of broken channels :  1211\n"
     ]
    },
    {
     "ename": "KeyError",
     "evalue": "32",
     "output_type": "error",
     "traceback": [
      "\u001b[0;31m---------------------------------------------------------------------------\u001b[0m",
      "\u001b[0;31mKeyError\u001b[0m                                  Traceback (most recent call last)",
      "\u001b[0;32m<ipython-input-5-2d760ff216d3>\u001b[0m in \u001b[0;36m<module>\u001b[0;34m()\u001b[0m\n\u001b[0;32m----> 1\u001b[0;31m \u001b[0mdisplay\u001b[0m\u001b[0;34m(\u001b[0m\u001b[0mprint_progress\u001b[0m\u001b[0;34m(\u001b[0m\u001b[0mmega_dict\u001b[0m\u001b[0;34m,\u001b[0m \u001b[0;36m32\u001b[0m\u001b[0;34m)\u001b[0m\u001b[0;34m)\u001b[0m\u001b[0;34m\u001b[0m\u001b[0m\n\u001b[0m\u001b[1;32m      2\u001b[0m \u001b[0mprint\u001b[0m\u001b[0;34m(\u001b[0m\u001b[0mget_flag_channel\u001b[0m\u001b[0;34m(\u001b[0m\u001b[0mmega_dict\u001b[0m\u001b[0;34m,\u001b[0m \u001b[0;34m[\u001b[0m\u001b[0;36m32\u001b[0m\u001b[0;34m]\u001b[0m\u001b[0;34m)\u001b[0m\u001b[0;34m)\u001b[0m\u001b[0;34m\u001b[0m\u001b[0m\n",
      "\u001b[0;32m<ipython-input-1-c8e184f4f53c>\u001b[0m in \u001b[0;36mprint_progress\u001b[0;34m(mega_dict, flg_typ)\u001b[0m\n\u001b[1;32m     58\u001b[0m     \u001b[0mpercent_f_cover\u001b[0m \u001b[0;34m=\u001b[0m \u001b[0mfloat\u001b[0m\u001b[0;34m(\u001b[0m\u001b[0mf_channels\u001b[0m\u001b[0;34m*\u001b[0m\u001b[0;36m100.\u001b[0m \u001b[0;34m/\u001b[0m \u001b[0mbrkn_channel_count\u001b[0m\u001b[0;34m)\u001b[0m\u001b[0;34m\u001b[0m\u001b[0m\n\u001b[1;32m     59\u001b[0m     \u001b[0mprint\u001b[0m\u001b[0;34m(\u001b[0m\u001b[0;34m'Total number of broken channels : '\u001b[0m\u001b[0;34m,\u001b[0m \u001b[0mbrkn_channel_count\u001b[0m\u001b[0;34m)\u001b[0m\u001b[0;34m\u001b[0m\u001b[0m\n\u001b[0;32m---> 60\u001b[0;31m     \u001b[0mprint\u001b[0m\u001b[0;34m(\u001b[0m\u001b[0;34m'Total number of '\u001b[0m\u001b[0;34m,\u001b[0m \u001b[0mflag_dscrpt\u001b[0m\u001b[0;34m[\u001b[0m\u001b[0mflg_typ\u001b[0m\u001b[0;34m]\u001b[0m\u001b[0;34m,\u001b[0m \u001b[0;34m' : '\u001b[0m\u001b[0;34m,\u001b[0m \u001b[0mf_channels\u001b[0m\u001b[0;34m)\u001b[0m\u001b[0;34m\u001b[0m\u001b[0m\n\u001b[0m\u001b[1;32m     61\u001b[0m     \u001b[0mprint\u001b[0m\u001b[0;34m(\u001b[0m\u001b[0;34m'Percent of the failed : '\u001b[0m\u001b[0;34m,\u001b[0m \u001b[0mpercent_f_cover\u001b[0m\u001b[0;34m)\u001b[0m\u001b[0;34m\u001b[0m\u001b[0m\n\u001b[1;32m     62\u001b[0m     \u001b[0;32mreturn\u001b[0m \u001b[0mshow_progress\u001b[0m\u001b[0;34m(\u001b[0m\u001b[0mflag_dscrpt\u001b[0m\u001b[0;34m[\u001b[0m\u001b[0mflg_typ\u001b[0m\u001b[0;34m]\u001b[0m\u001b[0;34m,\u001b[0m \u001b[0mpercent_f_cover\u001b[0m\u001b[0;34m)\u001b[0m\u001b[0;34m\u001b[0m\u001b[0m\n",
      "\u001b[0;31mKeyError\u001b[0m: 32"
     ]
    }
   ],
   "source": [
    "display(print_progress(mega_dict, 32))\n",
    "print(get_flag_channel(mega_dict, [32]))"
   ]
  }
 ],
 "metadata": {
  "kernelspec": {
   "display_name": "Python 3",
   "language": "python",
   "name": "python3"
  },
  "language_info": {
   "codemirror_mode": {
    "name": "ipython",
    "version": 3
   },
   "file_extension": ".py",
   "mimetype": "text/x-python",
   "name": "python",
   "nbconvert_exporter": "python",
   "pygments_lexer": "ipython3",
   "version": "3.5.4"
  }
 },
 "nbformat": 4,
 "nbformat_minor": 2
}
