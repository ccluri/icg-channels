{
 "cells": [
  {
   "cell_type": "code",
   "execution_count": 20,
   "metadata": {
    "collapsed": true,
    "jupyter": {
     "outputs_hidden": true
    }
   },
   "outputs": [],
   "source": [
    "import pickle\n",
    "import os\n",
    "from generate_mod import gen_modfile"
   ]
  },
  {
   "cell_type": "code",
   "execution_count": 39,
   "metadata": {
    "collapsed": true,
    "jupyter": {
     "outputs_hidden": true
    }
   },
   "outputs": [],
   "source": [
    "#load data dictionary from pkl file\n",
    "iontype = \"IH\"\n",
    "SM_NUM = 2\n",
    "f = open(\"/media/icg-channels/icg-channels-\"+iontype+\".pkl\",\"rb\")\n",
    "data_dict = pickle.load(f)"
   ]
  },
  {
   "cell_type": "code",
   "execution_count": 40,
   "metadata": {},
   "outputs": [
    {
     "name": "stdout",
     "output_type": "stream",
     "text": [
      "No Super Models for you! : 112685_Golgi_hcn1.mod\n",
      "No Super Models for you! : 84589_hdend.mod\n",
      "No Super Models for you! : 139421_iholmw.mod\n",
      "No Super Models for you! : 151282_iholmw.mod\n",
      "No Super Models for you! : 139656_Golgi_hcn1.mod\n",
      "No Super Models for you! : 185858_ihlts.mod\n",
      "No Super Models for you! : 144523_TNC.mod\n",
      "No Super Models for you! : 150024_TNC.mod\n",
      "No Super Models for you! : 135903_iholmw.mod\n",
      "No Super Models for you! : 127021_Golgi_hcn2.mod\n",
      "No Super Models for you! : 64229_arhRT03_v2.mod\n",
      "No Super Models for you! : 149737_ih_stochastic.mod\n",
      "No Super Models for you! : 97860_hcn_siegelbaum.mod\n",
      "No Super Models for you! : 139656_Golgi_hcn2.mod\n",
      "No Super Models for you! : 182134_iholmkop.mod\n",
      "No Super Models for you! : 155735_ihpkj_cn.mod\n",
      "No Super Models for you! : 37856_pyr.mod\n",
      "No Super Models for you! : 182134_ihpyrkop.mod\n",
      "No Super Models for you! : 84589_hsoma.mod\n",
      "No Super Models for you! : 135902_iholmw.mod\n",
      "No Super Models for you! : 185858_Ih.mod\n",
      "No Super Models for you! : 127021_Golgi_hcn1.mod\n",
      "No Super Models for you! : 139421_iholmkop.mod\n",
      "No Super Models for you! : 135902_iholmkop.mod\n",
      "No Super Models for you! : 140828_ar.mod\n",
      "No Super Models for you! : 64229_arhRT03.mod\n",
      "No Super Models for you! : 93321_h.mod\n",
      "No Super Models for you! : 64195_ih_stochastic.mod\n",
      "No Super Models for you! : 135903_iholmkop.mod\n",
      "No Super Models for you! : 135903_ihpyrkop.mod\n",
      "No Super Models for you! : 139421_ihpyrkop.mod\n",
      "No Super Models for you! : 144520_if.mod\n",
      "No Super Models for you! : 112685_Golgi_hcn2.mod\n",
      "No Super Models for you! : 135902_ihpyrkop.mod\n",
      "No Super Models for you! : 122329_hcn2_gp.mod\n",
      "No Super Models for you! : 182134_iholmw.mod\n",
      "65.4320987654321\n"
     ]
    }
   ],
   "source": [
    "# loop through and create files\n",
    "iondict = {'K': 'k', 'Na': 'na', 'Ca': 'ca', 'IH': 'h'}\n",
    "sm_str = 'SM'+str(SM_NUM)\n",
    "\n",
    "# NOTE: change output directory here and inside loop\n",
    "out_dir = \"/media/icg-channels/icg-channels-\"+iontype+'/'\n",
    "fail_count = 0\n",
    "for modname in data_dict.keys():\n",
    "    try:\n",
    "        if data_dict[modname][sm_str+'_FIT'] and not data_dict[modname]['ERROR_FLAGS']:\n",
    "            var_dict = {}\n",
    "            for v, num_v in data_dict[modname]['GATES'].items():\n",
    "                inf_params = data_dict[modname][sm_str+'_PARAMS_SS'][v]\n",
    "                tau_params = data_dict[modname][sm_str+'_PARAMS_TAU'][v]\n",
    "                var_dict[v] = {}\n",
    "                var_dict[v]['a'] = inf_params[0]\n",
    "                var_dict[v]['b'] = inf_params[1]\n",
    "                if SM_NUM == 2:\n",
    "                    var_dict[v]['c'] = inf_params[2]\n",
    "                    var_dict[v]['d'] = inf_params[3]\n",
    "                var_dict[v]['vh'] = tau_params[0]\n",
    "                var_dict[v]['A'] = tau_params[1]\n",
    "                var_dict[v]['b1'] = tau_params[2]\n",
    "                var_dict[v]['c1'] = tau_params[3]\n",
    "                var_dict[v]['d1'] = tau_params[4]\n",
    "                var_dict[v]['b2'] = tau_params[5]\n",
    "                var_dict[v]['c2'] = tau_params[6]\n",
    "                var_dict[v]['d2'] = tau_params[7]\n",
    "                var_dict[v]['count'] = num_v\n",
    "                \n",
    "            gmax_name = data_dict[modname]['GMAX_NAME']\n",
    "            gbar_dict = {'name': gmax_name,\n",
    "                         'val': data_dict[modname]['G_VALS'][gmax_name]}\n",
    "            if not os.path.isdir(out_dir + modname + '/ICG_' + sm_str):\n",
    "                os.mkdir(out_dir + modname + '/ICG_' + sm_str)\n",
    "            gen_modfile(data_dict[modname]['SUFFIX'],\n",
    "                        iondict[iontype], \n",
    "                        var_dict,\n",
    "                        out_dir + modname + '/ICG_' + sm_str + '/sm'+str(SM_NUM) + '_' + modname, \n",
    "                        sm_type=sm_str,\n",
    "                        gbar_dict=gbar_dict)\n",
    "        else:\n",
    "            fail_count += 1\n",
    "    except KeyError:\n",
    "        print('No Super Models for you! :', modname)\n",
    "        fail_count += 1\n",
    "        pass\n",
    "print(100*(len(data_dict) - fail_count)/len(data_dict))"
   ]
  },
  {
   "cell_type": "code",
   "execution_count": null,
   "metadata": {
    "collapsed": true,
    "jupyter": {
     "outputs_hidden": true
    }
   },
   "outputs": [],
   "source": []
  }
 ],
 "metadata": {
  "kernelspec": {
   "display_name": "Python 3 (ipykernel)",
   "language": "python",
   "name": "python3"
  },
  "language_info": {
   "codemirror_mode": {
    "name": "ipython",
    "version": 3
   },
   "file_extension": ".py",
   "mimetype": "text/x-python",
   "name": "python",
   "nbconvert_exporter": "python",
   "pygments_lexer": "ipython3",
   "version": "3.11.11"
  }
 },
 "nbformat": 4,
 "nbformat_minor": 4
}
