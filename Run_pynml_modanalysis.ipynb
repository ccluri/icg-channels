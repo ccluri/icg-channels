{
 "cells": [
  {
   "cell_type": "code",
   "execution_count": 1,
   "metadata": {
    "collapsed": true
   },
   "outputs": [],
   "source": [
    "import os\n",
    "import pickle\n",
    "from subprocess import call\n",
    "from glob import glob\n",
    "\n"
   ]
  },
  {
   "cell_type": "code",
   "execution_count": null,
   "metadata": {
    "collapsed": true
   },
   "outputs": [],
   "source": [
    "sub_channel = 'icg-channels-Na'\n",
    "all_channels = os.listdir(os.path.join('.', sub_channel))\n",
    "with open(sub_channel+'.pkl', 'rb') as handle:\n",
    "    mega_dict = pickle.load(handle)\n",
    "failed = []"
   ]
  },
  {
   "cell_type": "code",
   "execution_count": null,
   "metadata": {},
   "outputs": [
    {
     "name": "stdout",
     "output_type": "stream",
     "text": [
      "('Doing', '3793_na.mod', 0)\n",
      "('Doing', '2798_nans.mod', 1)\n",
      "('Doing', '144490_hha_old.mod', 2)\n",
      "('Doing', '184184_Nap.mod', 3)\n",
      "('Doing', '151126_Nasoma.mod', 4)\n",
      "('Doing', '125385_snap.mod', 5)\n",
      "('Doing', '121060_chan_NaF.mod', 6)\n",
      "('Doing', '146509_na3n.mod', 7)\n",
      "('Doing', '116862_HH2.mod', 8)\n",
      "('Doing', '116862_nthh.mod', 9)\n",
      "('Doing', '184152_NaV.mod', 10)\n",
      "('Doing', '168874_na3n.mod', 11)\n",
      "('Doing', '184325_NaTs.mod', 12)\n",
      "('Doing', '54903_nach.mod', 13)\n",
      "('Doing', '127388_pSTN.mod', 14)\n",
      "('Doing', '3682_hh3.mod', 15)\n",
      "('Doing', '114685_AXNODE75.mod', 16)\n",
      "('Doing', '151126_na3.mod', 17)\n",
      "('Doing', '116956_emdna.mod', 18)\n",
      "('Doing', '184168_Nap.mod', 19)\n",
      "('Doing', '150551_na3.mod', 20)\n",
      "('Doing', '123897_na12.mod', 21)\n",
      "('Doing', '168858_naz_nature.mod', 22)\n",
      "('Doing', '84589_nax.mod', 23)\n",
      "('Doing', '127388_pGPeA.mod', 24)\n",
      "('Doing', '182134_ca1ina.mod', 25)\n",
      "('Doing', '98005_na2_ch.mod', 26)\n",
      "('Doing', '55035_na3n.mod', 27)\n",
      "('Doing', '184180_NaTa.mod', 28)\n",
      "('Doing', '151443_Naf_IS.mod', 29)\n",
      "('Doing', '128079_naxkole.mod', 30)\n",
      "('Doing', '53451_na.mod', 31)\n",
      "('Doing', '125152_na3.mod', 32)\n",
      "('Doing', '184331_NaTa.mod', 33)\n",
      "('Doing', '140038_late2.mod', 34)\n",
      "('Doing', '64167_nax.mod', 35)\n",
      "('Doing', '139421_nafbwb.mod', 36)\n",
      "('Doing', '139421_CA1ina.mod', 37)\n",
      "('Doing', '153196_na.mod', 38)\n",
      "('Doing', '184316_Nap.mod', 39)\n",
      "('Doing', '71312_naxn.mod', 40)\n",
      "('Doing', '184337_Nap.mod', 41)\n",
      "('Doing', '184148_NaTs.mod', 42)\n",
      "('Doing', '82784_NafIN.mod', 43)\n",
      "('Doing', '45539_napf_tcr.mod', 44)\n",
      "('Doing', '3342_na.mod', 45)\n",
      "('Doing', '135903_nafbwb.mod', 46)\n",
      "('Doing', '147538_na3s.mod', 47)\n",
      "('Doing', '3805_dc.mod', 48)\n",
      "('Doing', '184331_NaTs.mod', 49)\n",
      "('Doing', '7400_naf.mod', 50)\n",
      "('Doing', '98017_INap.mod', 51)\n",
      "('Doing', '144392_naxn.mod', 52)\n",
      "('Doing', '150288_na3.mod', 53)\n",
      "('Doing', '140828_na.mod', 54)\n",
      "('Doing', '140828_HH2.mod', 55)\n",
      "('Doing', '149739_nafast.mod', 56)\n",
      "('Doing', '181967_Naaxon.mod', 57)\n",
      "('Doing', '150556_Nam.mod', 58)\n",
      "('Doing', '155601_ichan2.mod', 59)\n"
     ]
    }
   ],
   "source": [
    "for ii, folder in enumerate(all_channels):\n",
    "    if folder in ['.git', 'LICENSE', 'Readme.md']:\n",
    "        pass\n",
    "    else:\n",
    "        os.chdir(sub_channel+'/'+ folder)\n",
    "        try:\n",
    "            if not glob('*.dat'):\n",
    "                fname = mega_dict[folder]['new_name'].rsplit('.mod')[0]\n",
    "                os.system('python /home/chaitanya/pyNeuroML/pyneuroml/neuron/analysis/HHanalyse.py '+fname)\n",
    "        except:\n",
    "            failed.append(folder)\n",
    "        os.chdir('../..')\n",
    "        print('Doing', folder, ii)\n",
    "\n",
    "    "
   ]
  },
  {
   "cell_type": "code",
   "execution_count": null,
   "metadata": {
    "collapsed": true
   },
   "outputs": [],
   "source": []
  },
  {
   "cell_type": "code",
   "execution_count": null,
   "metadata": {},
   "outputs": [],
   "source": []
  }
 ],
 "metadata": {
  "kernelspec": {
   "display_name": "Python 2",
   "language": "python",
   "name": "python2"
  },
  "language_info": {
   "codemirror_mode": {
    "name": "ipython",
    "version": 2
   },
   "file_extension": ".py",
   "mimetype": "text/x-python",
   "name": "python",
   "nbconvert_exporter": "python",
   "pygments_lexer": "ipython2",
   "version": "2.7.13"
  }
 },
 "nbformat": 4,
 "nbformat_minor": 2
}
