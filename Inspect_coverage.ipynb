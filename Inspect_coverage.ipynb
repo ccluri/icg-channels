{
 "cells": [
  {
   "cell_type": "code",
   "execution_count": 10,
   "metadata": {},
   "outputs": [],
   "source": [
    "import os\n",
    "import pickle\n",
    "import re\n",
    "from glob import glob\n",
    "from ipywidgets import FloatProgress\n",
    "from IPython.display import display\n",
    "\n",
    "flag_dscrpt = {\n",
    "        1 : 'NOT A DISTB MECH',\n",
    "        2 : 'NO STATES DEFINED',\n",
    "        3 : 'STATES HAS FROM 0 TO 1',\n",
    "        11 : 'NO OUTPUT FROM HHAnalyse',\n",
    "        19 : '#STATES != #OUTPUT FILES',\n",
    "        30 : 'UNPARSE Unknown',\n",
    "        31 : 'UNPARSE TextXSyntaxError',\n",
    "        32 : 'UNPARSE TextXSemanticError',\n",
    "}\n",
    "\n",
    "def get_flag_counts(mega_dict, flag_typs=[]):\n",
    "    count = 0\n",
    "    for channel in mega_dict:\n",
    "        if 'red_flag' in mega_dict[channel]:\n",
    "            if not flag_typs:\n",
    "                count += 1\n",
    "            else:\n",
    "                for flag_typ in flag_typs:\n",
    "                    if flag_typ in mega_dict[channel]['red_flag']:\n",
    "                        count += 1 \n",
    "    return count\n",
    "\n",
    "def get_flag_channel(mega_dict, flag_typs=[]):\n",
    "    channel_list = []\n",
    "    for channel in mega_dict:\n",
    "        if 'red_flag' in mega_dict[channel]:\n",
    "            if not flag_typs:\n",
    "                channel_list.append(channel)\n",
    "            else:\n",
    "                for flag_typ in flag_typs:\n",
    "                    if flag_typ in mega_dict[channel]['red_flag']:\n",
    "                        channel_list.append(channel)    \n",
    "    return set(channel_list)\n",
    "\n",
    "def show_progress(description, value):\n",
    "    f = FloatProgress(min=0, max=100, description=description + ' : ')\n",
    "    f.value = value\n",
    "    return f\n",
    "\n",
    "def print_progress(mega_dict, flg_typ):\n",
    "    f_channels = get_flag_counts(mega_dict, [flg_typ])\n",
    "    percent_f_cover = float(f_channels*100. / brkn_channel_count)\n",
    "    print('Total number of broken channels : ', brkn_channel_count)\n",
    "    print('Total number of ', flag_dscrpt[flg_typ], ' : ', f_channels)\n",
    "    print('Percent of the failed : ', percent_f_cover)\n",
    "    return show_progress(flag_dscrpt[flg_typ], percent_f_cover)"
   ]
  },
  {
   "cell_type": "code",
   "execution_count": 11,
   "metadata": {},
   "outputs": [
    {
     "name": "stdout",
     "output_type": "stream",
     "text": [
      "Total number of channels in,  icg-channels-K  :  1211\n",
      "Total number of broken channels :  683\n",
      "Number of channels that are OKAY so far:  528\n",
      "Percent of pass :  56.39966969446738\n"
     ]
    },
    {
     "data": {
      "application/vnd.jupyter.widget-view+json": {
       "model_id": "5678fbb3797641859ff0ef5548b49138"
      }
     },
     "metadata": {},
     "output_type": "display_data"
    }
   ],
   "source": [
    "sub_channel = 'icg-channels-K'\n",
    "with open(sub_channel+'.pkl', 'rb') as handle:\n",
    "    mega_dict = pickle.load(handle)\n",
    "\n",
    "brkn_channel_count = get_flag_counts(mega_dict)\n",
    "percent_cover = float(brkn_channel_count)/len(mega_dict)*100.\n",
    "\n",
    "print('Total number of channels in, ', sub_channel, ' : ', len(mega_dict))\n",
    "print('Total number of broken channels : ', brkn_channel_count)\n",
    "print('Number of channels that are OKAY so far: ', len(mega_dict)-brkn_channel_count)\n",
    "print('Percent of pass : ', percent_cover)\n",
    "display(show_progress('Pass coverage', percent_cover))"
   ]
  },
  {
   "cell_type": "code",
   "execution_count": 12,
   "metadata": {},
   "outputs": [
    {
     "name": "stdout",
     "output_type": "stream",
     "text": [
      "Total number of broken channels :  683\n",
      "Total number of  NOT A DISTB MECH  :  0\n",
      "Percent of the failed :  0.0\n"
     ]
    },
    {
     "data": {
      "application/vnd.jupyter.widget-view+json": {
       "model_id": "ee0a999880884c39bdc5a887704ec341"
      }
     },
     "metadata": {},
     "output_type": "display_data"
    }
   ],
   "source": [
    "display(print_progress(mega_dict, 1))"
   ]
  },
  {
   "cell_type": "code",
   "execution_count": 13,
   "metadata": {},
   "outputs": [
    {
     "name": "stdout",
     "output_type": "stream",
     "text": [
      "Total number of broken channels :  683\n",
      "Total number of  NO STATES DEFINED  :  49\n",
      "Percent of the failed :  7.174231332357247\n"
     ]
    },
    {
     "data": {
      "application/vnd.jupyter.widget-view+json": {
       "model_id": "2d226f3ade8047dc80774c74de6348c2"
      }
     },
     "metadata": {},
     "output_type": "display_data"
    }
   ],
   "source": [
    "display(print_progress(mega_dict, 2))"
   ]
  },
  {
   "cell_type": "code",
   "execution_count": 14,
   "metadata": {},
   "outputs": [
    {
     "name": "stdout",
     "output_type": "stream",
     "text": [
      "Total number of broken channels :  683\n",
      "Total number of  STATES HAS FROM 0 TO 1  :  0\n",
      "Percent of the failed :  0.0\n"
     ]
    },
    {
     "data": {
      "application/vnd.jupyter.widget-view+json": {
       "model_id": "cefbcc05ff804a04a12780c7c622b10a"
      }
     },
     "metadata": {},
     "output_type": "display_data"
    }
   ],
   "source": [
    "display(print_progress(mega_dict, 3))"
   ]
  },
  {
   "cell_type": "code",
   "execution_count": 15,
   "metadata": {},
   "outputs": [
    {
     "name": "stdout",
     "output_type": "stream",
     "text": [
      "Total number of broken channels :  683\n",
      "Total number of  NO OUTPUT FROM HHAnalyse  :  383\n",
      "Percent of the failed :  56.07613469985359\n"
     ]
    },
    {
     "data": {
      "application/vnd.jupyter.widget-view+json": {
       "model_id": "7b756dbe81444ea28184e13472ccac84"
      }
     },
     "metadata": {},
     "output_type": "display_data"
    }
   ],
   "source": [
    "display(print_progress(mega_dict, 11))"
   ]
  },
  {
   "cell_type": "code",
   "execution_count": 18,
   "metadata": {},
   "outputs": [
    {
     "name": "stdout",
     "output_type": "stream",
     "text": [
      "Total number of broken channels :  683\n",
      "Total number of  UNPARSE Unknown  :  265\n",
      "Percent of the failed :  38.79941434846266\n"
     ]
    },
    {
     "data": {
      "application/vnd.jupyter.widget-view+json": {
       "model_id": "48ed5ccf52e843878400eb54a46754f1"
      }
     },
     "metadata": {},
     "output_type": "display_data"
    }
   ],
   "source": [
    "display(print_progress(mega_dict, 30))"
   ]
  },
  {
   "cell_type": "code",
   "execution_count": 16,
   "metadata": {},
   "outputs": [
    {
     "name": "stdout",
     "output_type": "stream",
     "text": [
      "Total number of broken channels :  683\n",
      "Total number of  UNPARSE TextXSyntaxError  :  216\n",
      "Percent of the failed :  31.625183016105417\n"
     ]
    },
    {
     "data": {
      "application/vnd.jupyter.widget-view+json": {
       "model_id": "8bb41a103ced42abbb2b6a9d5aa873a9"
      }
     },
     "metadata": {},
     "output_type": "display_data"
    }
   ],
   "source": [
    "display(print_progress(mega_dict, 31))"
   ]
  },
  {
   "cell_type": "code",
   "execution_count": 17,
   "metadata": {},
   "outputs": [
    {
     "name": "stdout",
     "output_type": "stream",
     "text": [
      "Total number of broken channels :  683\n",
      "Total number of  UNPARSE TextXSemanticError  :  2\n",
      "Percent of the failed :  0.29282576866764276\n"
     ]
    },
    {
     "data": {
      "application/vnd.jupyter.widget-view+json": {
       "model_id": "55c639ce960c43d798ff0d883638ea3c"
      }
     },
     "metadata": {},
     "output_type": "display_data"
    }
   ],
   "source": [
    "display(print_progress(mega_dict, 32))"
   ]
  }
 ],
 "metadata": {
  "kernelspec": {
   "display_name": "Python 3",
   "language": "python",
   "name": "python3"
  },
  "language_info": {
   "codemirror_mode": {
    "name": "ipython",
    "version": 3
   },
   "file_extension": ".py",
   "mimetype": "text/x-python",
   "name": "python",
   "nbconvert_exporter": "python",
   "pygments_lexer": "ipython3",
   "version": "3.6.1"
  }
 },
 "nbformat": 4,
 "nbformat_minor": 2
}
