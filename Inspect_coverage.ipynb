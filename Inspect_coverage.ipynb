{
 "cells": [
  {
   "cell_type": "code",
   "execution_count": 1,
   "metadata": {},
   "outputs": [],
   "source": [
    "import os\n",
    "import pickle\n",
    "import re\n",
    "from glob import glob\n",
    "from ipywidgets import FloatProgress\n",
    "from IPython.display import display\n",
    "import matplotlib.pyplot as plt\n",
    "import datetime\n",
    "\n",
    "flag_dscrpt = {\n",
    "        1 : 'NOT A DISTB MECH',\n",
    "        2 : 'NO STATES DEFINED',\n",
    "        3 : 'STATES HAS FROM 0 TO 1',\n",
    "        11 : 'NO OUTPUT FROM HHAnalyse',\n",
    "        19 : '#STATES != #OUTPUT FILES',\n",
    "        30 : 'UNPARSE Unknown',\n",
    "        31 : 'UNPARSE TextXSyntaxError',\n",
    "        32 : 'UNPARSE TextXSemanticError',\n",
    "        33 : 'UNPARSE AttributeError'\n",
    "}\n",
    "\n",
    "def get_flag_counts(mega_dict, flag_typs=[]):\n",
    "    count = 0\n",
    "    for channel in mega_dict:\n",
    "        if 'red_flag' in mega_dict[channel]:\n",
    "            if not flag_typs:\n",
    "                count += 1\n",
    "            else:\n",
    "                for flag_typ in flag_typs:\n",
    "                    if flag_typ in mega_dict[channel]['red_flag']:\n",
    "                        count += 1 \n",
    "    return count\n",
    "\n",
    "def get_flag_channel(mega_dict, flag_typs=[]):\n",
    "    channel_list = []\n",
    "    for channel in mega_dict:\n",
    "        if 'red_flag' in mega_dict[channel]:\n",
    "            if not flag_typs:\n",
    "                channel_list.append(channel)\n",
    "            else:\n",
    "                for flag_typ in flag_typs:\n",
    "                    if flag_typ in mega_dict[channel]['red_flag']:\n",
    "                        channel_list.append(channel)    \n",
    "    return set(channel_list)\n",
    "\n",
    "def show_progress(description, value):\n",
    "    f = FloatProgress(min=0, max=100, description=description + ' : ')\n",
    "    f.value = value\n",
    "    return f\n",
    "\n",
    "def print_progress(mega_dict, flg_typ):\n",
    "    f_channels = get_flag_counts(mega_dict, [flg_typ])\n",
    "    percent_f_cover = float(f_channels*100. / brkn_channel_count)\n",
    "    print('Total number of broken channels : ', brkn_channel_count)\n",
    "    print('Total number of ', flag_dscrpt[flg_typ], ' : ', f_channels)\n",
    "    print('Percent of the failed : ', percent_f_cover)\n",
    "    return show_progress(flag_dscrpt[flg_typ], percent_f_cover)\n",
    "\n",
    "def fail_percent(mega_dict, flag_list):\n",
    "    counts = []\n",
    "    for flg in flag_list:\n",
    "        counts.append(len(get_flag_channel(mega_dict, [flg])))\n",
    "    counts = [(100.0 * ii) / len(mega_dict) for ii in counts]\n",
    "    return counts\n",
    "\n",
    "def make_plot():\n",
    "    now = datetime.datetime.now()\n",
    "    pos = [ii + 0.5 for ii in range(len(flag_dscrpt)+1)]\n",
    "    values = [100.-percent_cover]\n",
    "    colors = ['g']\n",
    "    labels = ['ALL PASS']\n",
    "    for key, value in flag_dscrpt.items():\n",
    "        values.append(fail_percent(mega_dict, [key])[0])\n",
    "        colors.append('r')\n",
    "        labels.append(value)\n",
    "    plt.figure(figsize=(10,10))\n",
    "    bar_list = plt.barh(pos, values)\n",
    "    for ii, bar in enumerate(bar_list):\n",
    "        bar.set_color(colors[ii])\n",
    "    plt.yticks(pos, labels)\n",
    "    ax = plt.gca()\n",
    "    ax.set_xlim(0,100)\n",
    "    ax.set_xlabel('Percentage')\n",
    "    plt.title(sub_channel + ' ' + now.strftime(\"%Y-%m-%d %H:%M\"))\n",
    "    #plt.savefig(sub_channel+'_coverage.png', dpi=150, bbox_inches='tight')\n",
    "    plt.show()"
   ]
  },
  {
   "cell_type": "code",
   "execution_count": 2,
   "metadata": {},
   "outputs": [],
   "source": [
    "sub_channel = 'icg-channels-IH'\n",
    "with open(sub_channel+'.pkl', 'rb') as handle:\n",
    "    mega_dict = pickle.load(handle)\n",
    "\n",
    "brkn_channel_count = get_flag_counts(mega_dict)\n",
    "percent_cover = float(brkn_channel_count)/len(mega_dict)*100."
   ]
  },
  {
   "cell_type": "code",
   "execution_count": 3,
   "metadata": {},
   "outputs": [
    {
     "data": {
      "image/png": "[encoded data removed]",
      "text/plain": [
       "<matplotlib.figure.Figure at 0x7fa05142ed68>"
      ]
     },
     "metadata": {},
     "output_type": "display_data"
    }
   ],
   "source": [
    "make_plot()"
   ]
  },
  {
   "cell_type": "code",
   "execution_count": 4,
   "metadata": {},
   "outputs": [
    {
     "name": "stdout",
     "output_type": "stream",
     "text": [
      "Total number of channels in,  icg-channels-IH  :  243\n",
      "Total number of broken channels :  237\n",
      "Number of channels that are OKAY so far:  6\n",
      "Percent of pass :  97.53086419753086\n"
     ]
    },
    {
     "data": {
      "application/vnd.jupyter.widget-view+json": {
       "model_id": "5ecf2ca287c64ce58bfa611a80143a38",
       "version_major": 2,
       "version_minor": 0
      },
      "text/plain": [
       "A Jupyter Widget"
      ]
     },
     "metadata": {},
     "output_type": "display_data"
    }
   ],
   "source": [
    "print('Total number of channels in, ', sub_channel, ' : ', len(mega_dict))\n",
    "print('Total number of broken channels : ', brkn_channel_count)\n",
    "print('Number of channels that are OKAY so far: ', len(mega_dict)-brkn_channel_count)\n",
    "print('Percent of pass : ', percent_cover)\n",
    "display(show_progress('Pass coverage', percent_cover))"
   ]
  },
  {
   "cell_type": "code",
   "execution_count": 5,
   "metadata": {},
   "outputs": [
    {
     "name": "stdout",
     "output_type": "stream",
     "text": [
      "Total number of broken channels :  237\n",
      "Total number of  UNPARSE TextXSyntaxError  :  25\n",
      "Percent of the failed :  10.548523206751055\n"
     ]
    },
    {
     "data": {
      "application/vnd.jupyter.widget-view+json": {
       "model_id": "39596faafe0b4ab4b16be576db10f069",
       "version_major": 2,
       "version_minor": 0
      },
      "text/plain": [
       "A Jupyter Widget"
      ]
     },
     "metadata": {},
     "output_type": "display_data"
    },
    {
     "name": "stdout",
     "output_type": "stream",
     "text": [
      "{'105385_hcn12_gp.mod', '135903_iholmw.mod', '135903_ihpyrkop.mod', '185858_ihlts.mod', '122329_hcn12_gp.mod', '139421_iholmkop.mod', '151282_iholmw.mod', '64229_arhRT03_v2.mod', '97860_hcn_siegelbaum.mod', '135903_iholmkop.mod', '98005_hcn12_ch.mod', '105385_hcn2_gp.mod', '98005_hcn2_ch.mod', '182134_iholmkop.mod', '122329_hcn2_gp.mod', '182134_ihpyrkop.mod', '135902_iholmkop.mod', '139421_ihpyrkop.mod', '182134_iholmw.mod', '64229_arhRT03.mod', '135902_ihpyrkop.mod', '155735_ihpkj_cn.mod', '19176_hcn2.mod', '135902_iholmw.mod', '139421_iholmw.mod'}\n"
     ]
    }
   ],
   "source": [
    "display(print_progress(mega_dict, 31))\n",
    "print(get_flag_channel(mega_dict, [31]))"
   ]
  }
 ],
 "metadata": {
  "kernelspec": {
   "display_name": "Python 3",
   "language": "python",
   "name": "python3"
  },
  "language_info": {
   "codemirror_mode": {
    "name": "ipython",
    "version": 3
   },
   "file_extension": ".py",
   "mimetype": "text/x-python",
   "name": "python",
   "nbconvert_exporter": "python",
   "pygments_lexer": "ipython3",
   "version": "3.5.4"
  }
 },
 "nbformat": 4,
 "nbformat_minor": 2
}
